{
 "cells": [
  {
   "cell_type": "code",
   "execution_count": 1,
   "metadata": {},
   "outputs": [],
   "source": [
    "import pandas as pd\n",
    "import numpy as np\n",
    "import matplotlib.pyplot as plt\n",
    "import seaborn as sns\n",
    "%matplotlib inline\n",
    "from sklearn import metrics\n",
    "import warnings\n",
    "warnings.filterwarnings('ignore')"
   ]
  },
  {
   "cell_type": "code",
   "execution_count": 2,
   "metadata": {},
   "outputs": [],
   "source": [
    "df = pd.read_excel('Vanderbilt Univ Case Dataset.xlsx')"
   ]
  },
  {
   "cell_type": "code",
   "execution_count": 3,
   "metadata": {},
   "outputs": [
    {
     "data": {
      "text/html": [
       "<div>\n",
       "<style scoped>\n",
       "    .dataframe tbody tr th:only-of-type {\n",
       "        vertical-align: middle;\n",
       "    }\n",
       "\n",
       "    .dataframe tbody tr th {\n",
       "        vertical-align: top;\n",
       "    }\n",
       "\n",
       "    .dataframe thead th {\n",
       "        text-align: right;\n",
       "    }\n",
       "</style>\n",
       "<table border=\"1\" class=\"dataframe\">\n",
       "  <thead>\n",
       "    <tr style=\"text-align: right;\">\n",
       "      <th></th>\n",
       "      <th>SurgDate</th>\n",
       "      <th>DOW</th>\n",
       "      <th>T - 28</th>\n",
       "      <th>T - 21</th>\n",
       "      <th>T - 14</th>\n",
       "      <th>T - 13</th>\n",
       "      <th>T - 12</th>\n",
       "      <th>T - 11</th>\n",
       "      <th>T - 10</th>\n",
       "      <th>T - 9</th>\n",
       "      <th>T - 8</th>\n",
       "      <th>T - 7</th>\n",
       "      <th>T - 6</th>\n",
       "      <th>T - 5</th>\n",
       "      <th>T - 4</th>\n",
       "      <th>T - 3</th>\n",
       "      <th>T - 2</th>\n",
       "      <th>T - 1</th>\n",
       "      <th>Actual</th>\n",
       "    </tr>\n",
       "  </thead>\n",
       "  <tbody>\n",
       "    <tr>\n",
       "      <th>0</th>\n",
       "      <td>2011-10-10</td>\n",
       "      <td>Mon</td>\n",
       "      <td>38</td>\n",
       "      <td>45</td>\n",
       "      <td>60</td>\n",
       "      <td>63</td>\n",
       "      <td>65</td>\n",
       "      <td>70</td>\n",
       "      <td>73</td>\n",
       "      <td>73</td>\n",
       "      <td>73</td>\n",
       "      <td>80</td>\n",
       "      <td>84</td>\n",
       "      <td>89</td>\n",
       "      <td>94</td>\n",
       "      <td>98</td>\n",
       "      <td>100</td>\n",
       "      <td>104</td>\n",
       "      <td>106</td>\n",
       "    </tr>\n",
       "    <tr>\n",
       "      <th>1</th>\n",
       "      <td>2011-10-11</td>\n",
       "      <td>Tue</td>\n",
       "      <td>35</td>\n",
       "      <td>47</td>\n",
       "      <td>65</td>\n",
       "      <td>68</td>\n",
       "      <td>78</td>\n",
       "      <td>82</td>\n",
       "      <td>82</td>\n",
       "      <td>82</td>\n",
       "      <td>86</td>\n",
       "      <td>89</td>\n",
       "      <td>92</td>\n",
       "      <td>95</td>\n",
       "      <td>99</td>\n",
       "      <td>99</td>\n",
       "      <td>99</td>\n",
       "      <td>114</td>\n",
       "      <td>121</td>\n",
       "    </tr>\n",
       "    <tr>\n",
       "      <th>2</th>\n",
       "      <td>2011-10-12</td>\n",
       "      <td>Wed</td>\n",
       "      <td>26</td>\n",
       "      <td>43</td>\n",
       "      <td>54</td>\n",
       "      <td>62</td>\n",
       "      <td>72</td>\n",
       "      <td>72</td>\n",
       "      <td>72</td>\n",
       "      <td>74</td>\n",
       "      <td>87</td>\n",
       "      <td>94</td>\n",
       "      <td>96</td>\n",
       "      <td>101</td>\n",
       "      <td>102</td>\n",
       "      <td>102</td>\n",
       "      <td>106</td>\n",
       "      <td>114</td>\n",
       "      <td>126</td>\n",
       "    </tr>\n",
       "    <tr>\n",
       "      <th>3</th>\n",
       "      <td>2011-10-13</td>\n",
       "      <td>Thu</td>\n",
       "      <td>28</td>\n",
       "      <td>48</td>\n",
       "      <td>65</td>\n",
       "      <td>70</td>\n",
       "      <td>72</td>\n",
       "      <td>72</td>\n",
       "      <td>72</td>\n",
       "      <td>82</td>\n",
       "      <td>87</td>\n",
       "      <td>91</td>\n",
       "      <td>94</td>\n",
       "      <td>94</td>\n",
       "      <td>94</td>\n",
       "      <td>97</td>\n",
       "      <td>98</td>\n",
       "      <td>103</td>\n",
       "      <td>114</td>\n",
       "    </tr>\n",
       "    <tr>\n",
       "      <th>4</th>\n",
       "      <td>2011-10-14</td>\n",
       "      <td>Fri</td>\n",
       "      <td>31</td>\n",
       "      <td>40</td>\n",
       "      <td>50</td>\n",
       "      <td>50</td>\n",
       "      <td>50</td>\n",
       "      <td>54</td>\n",
       "      <td>62</td>\n",
       "      <td>68</td>\n",
       "      <td>71</td>\n",
       "      <td>73</td>\n",
       "      <td>73</td>\n",
       "      <td>73</td>\n",
       "      <td>78</td>\n",
       "      <td>83</td>\n",
       "      <td>87</td>\n",
       "      <td>94</td>\n",
       "      <td>106</td>\n",
       "    </tr>\n",
       "  </tbody>\n",
       "</table>\n",
       "</div>"
      ],
      "text/plain": [
       "    SurgDate  DOW  T - 28  T - 21  T - 14  T - 13  T - 12  T - 11  T - 10  \\\n",
       "0 2011-10-10  Mon      38      45      60      63      65      70      73   \n",
       "1 2011-10-11  Tue      35      47      65      68      78      82      82   \n",
       "2 2011-10-12  Wed      26      43      54      62      72      72      72   \n",
       "3 2011-10-13  Thu      28      48      65      70      72      72      72   \n",
       "4 2011-10-14  Fri      31      40      50      50      50      54      62   \n",
       "\n",
       "   T - 9  T - 8  T - 7  T - 6  T - 5  T - 4  T - 3  T - 2  T - 1  Actual  \n",
       "0     73     73     80     84     89     94     98    100    104     106  \n",
       "1     82     86     89     92     95     99     99     99    114     121  \n",
       "2     74     87     94     96    101    102    102    106    114     126  \n",
       "3     82     87     91     94     94     94     97     98    103     114  \n",
       "4     68     71     73     73     73     78     83     87     94     106  "
      ]
     },
     "execution_count": 3,
     "metadata": {},
     "output_type": "execute_result"
    }
   ],
   "source": [
    "df.head()"
   ]
  },
  {
   "cell_type": "code",
   "execution_count": 4,
   "metadata": {},
   "outputs": [
    {
     "data": {
      "text/plain": [
       "(241, 19)"
      ]
     },
     "execution_count": 4,
     "metadata": {},
     "output_type": "execute_result"
    }
   ],
   "source": [
    "df.shape"
   ]
  },
  {
   "cell_type": "markdown",
   "metadata": {},
   "source": [
    "## Exploratory Data Analysis"
   ]
  },
  {
   "cell_type": "code",
   "execution_count": 5,
   "metadata": {},
   "outputs": [
    {
     "data": {
      "text/html": [
       "<div>\n",
       "<style scoped>\n",
       "    .dataframe tbody tr th:only-of-type {\n",
       "        vertical-align: middle;\n",
       "    }\n",
       "\n",
       "    .dataframe tbody tr th {\n",
       "        vertical-align: top;\n",
       "    }\n",
       "\n",
       "    .dataframe thead th {\n",
       "        text-align: right;\n",
       "    }\n",
       "</style>\n",
       "<table border=\"1\" class=\"dataframe\">\n",
       "  <thead>\n",
       "    <tr style=\"text-align: right;\">\n",
       "      <th></th>\n",
       "      <th>T - 28</th>\n",
       "      <th>T - 21</th>\n",
       "      <th>T - 14</th>\n",
       "      <th>T - 13</th>\n",
       "      <th>T - 12</th>\n",
       "      <th>T - 11</th>\n",
       "      <th>T - 10</th>\n",
       "      <th>T - 9</th>\n",
       "      <th>T - 8</th>\n",
       "      <th>T - 7</th>\n",
       "      <th>T - 6</th>\n",
       "      <th>T - 5</th>\n",
       "      <th>T - 4</th>\n",
       "      <th>T - 3</th>\n",
       "      <th>T - 2</th>\n",
       "      <th>T - 1</th>\n",
       "      <th>Actual</th>\n",
       "    </tr>\n",
       "  </thead>\n",
       "  <tbody>\n",
       "    <tr>\n",
       "      <th>count</th>\n",
       "      <td>241.000000</td>\n",
       "      <td>241.000000</td>\n",
       "      <td>241.000000</td>\n",
       "      <td>241.000000</td>\n",
       "      <td>241.000000</td>\n",
       "      <td>241.000000</td>\n",
       "      <td>241.000000</td>\n",
       "      <td>241.000000</td>\n",
       "      <td>241.000000</td>\n",
       "      <td>241.000000</td>\n",
       "      <td>241.000000</td>\n",
       "      <td>241.000000</td>\n",
       "      <td>241.000000</td>\n",
       "      <td>241.000000</td>\n",
       "      <td>241.000000</td>\n",
       "      <td>241.000000</td>\n",
       "      <td>241.000000</td>\n",
       "    </tr>\n",
       "    <tr>\n",
       "      <th>mean</th>\n",
       "      <td>34.261411</td>\n",
       "      <td>47.240664</td>\n",
       "      <td>64.439834</td>\n",
       "      <td>67.817427</td>\n",
       "      <td>70.502075</td>\n",
       "      <td>72.365145</td>\n",
       "      <td>74.946058</td>\n",
       "      <td>78.041494</td>\n",
       "      <td>82.336100</td>\n",
       "      <td>86.000000</td>\n",
       "      <td>89.269710</td>\n",
       "      <td>92.091286</td>\n",
       "      <td>94.688797</td>\n",
       "      <td>97.373444</td>\n",
       "      <td>101.165975</td>\n",
       "      <td>110.008299</td>\n",
       "      <td>116.381743</td>\n",
       "    </tr>\n",
       "    <tr>\n",
       "      <th>std</th>\n",
       "      <td>9.387610</td>\n",
       "      <td>11.321079</td>\n",
       "      <td>13.495891</td>\n",
       "      <td>14.200934</td>\n",
       "      <td>14.873109</td>\n",
       "      <td>14.970786</td>\n",
       "      <td>15.096674</td>\n",
       "      <td>15.054842</td>\n",
       "      <td>15.594841</td>\n",
       "      <td>16.089075</td>\n",
       "      <td>16.911962</td>\n",
       "      <td>17.370472</td>\n",
       "      <td>17.468264</td>\n",
       "      <td>17.589816</td>\n",
       "      <td>17.547004</td>\n",
       "      <td>17.785057</td>\n",
       "      <td>17.629388</td>\n",
       "    </tr>\n",
       "    <tr>\n",
       "      <th>min</th>\n",
       "      <td>0.000000</td>\n",
       "      <td>0.000000</td>\n",
       "      <td>0.000000</td>\n",
       "      <td>0.000000</td>\n",
       "      <td>0.000000</td>\n",
       "      <td>0.000000</td>\n",
       "      <td>0.000000</td>\n",
       "      <td>0.000000</td>\n",
       "      <td>0.000000</td>\n",
       "      <td>0.000000</td>\n",
       "      <td>0.000000</td>\n",
       "      <td>0.000000</td>\n",
       "      <td>0.000000</td>\n",
       "      <td>0.000000</td>\n",
       "      <td>0.000000</td>\n",
       "      <td>3.000000</td>\n",
       "      <td>11.000000</td>\n",
       "    </tr>\n",
       "    <tr>\n",
       "      <th>25%</th>\n",
       "      <td>28.000000</td>\n",
       "      <td>41.000000</td>\n",
       "      <td>58.000000</td>\n",
       "      <td>62.000000</td>\n",
       "      <td>64.000000</td>\n",
       "      <td>66.000000</td>\n",
       "      <td>68.000000</td>\n",
       "      <td>71.000000</td>\n",
       "      <td>76.000000</td>\n",
       "      <td>80.000000</td>\n",
       "      <td>82.000000</td>\n",
       "      <td>84.000000</td>\n",
       "      <td>88.000000</td>\n",
       "      <td>91.000000</td>\n",
       "      <td>95.000000</td>\n",
       "      <td>102.000000</td>\n",
       "      <td>110.000000</td>\n",
       "    </tr>\n",
       "    <tr>\n",
       "      <th>50%</th>\n",
       "      <td>35.000000</td>\n",
       "      <td>48.000000</td>\n",
       "      <td>65.000000</td>\n",
       "      <td>69.000000</td>\n",
       "      <td>72.000000</td>\n",
       "      <td>74.000000</td>\n",
       "      <td>77.000000</td>\n",
       "      <td>79.000000</td>\n",
       "      <td>85.000000</td>\n",
       "      <td>87.000000</td>\n",
       "      <td>91.000000</td>\n",
       "      <td>94.000000</td>\n",
       "      <td>97.000000</td>\n",
       "      <td>100.000000</td>\n",
       "      <td>103.000000</td>\n",
       "      <td>112.000000</td>\n",
       "      <td>117.000000</td>\n",
       "    </tr>\n",
       "    <tr>\n",
       "      <th>75%</th>\n",
       "      <td>40.000000</td>\n",
       "      <td>55.000000</td>\n",
       "      <td>73.000000</td>\n",
       "      <td>76.000000</td>\n",
       "      <td>80.000000</td>\n",
       "      <td>82.000000</td>\n",
       "      <td>84.000000</td>\n",
       "      <td>86.000000</td>\n",
       "      <td>92.000000</td>\n",
       "      <td>95.000000</td>\n",
       "      <td>99.000000</td>\n",
       "      <td>103.000000</td>\n",
       "      <td>106.000000</td>\n",
       "      <td>107.000000</td>\n",
       "      <td>111.000000</td>\n",
       "      <td>119.000000</td>\n",
       "      <td>126.000000</td>\n",
       "    </tr>\n",
       "    <tr>\n",
       "      <th>max</th>\n",
       "      <td>57.000000</td>\n",
       "      <td>73.000000</td>\n",
       "      <td>93.000000</td>\n",
       "      <td>99.000000</td>\n",
       "      <td>102.000000</td>\n",
       "      <td>106.000000</td>\n",
       "      <td>106.000000</td>\n",
       "      <td>112.000000</td>\n",
       "      <td>113.000000</td>\n",
       "      <td>118.000000</td>\n",
       "      <td>121.000000</td>\n",
       "      <td>121.000000</td>\n",
       "      <td>124.000000</td>\n",
       "      <td>127.000000</td>\n",
       "      <td>131.000000</td>\n",
       "      <td>139.000000</td>\n",
       "      <td>145.000000</td>\n",
       "    </tr>\n",
       "  </tbody>\n",
       "</table>\n",
       "</div>"
      ],
      "text/plain": [
       "           T - 28      T - 21      T - 14      T - 13      T - 12      T - 11  \\\n",
       "count  241.000000  241.000000  241.000000  241.000000  241.000000  241.000000   \n",
       "mean    34.261411   47.240664   64.439834   67.817427   70.502075   72.365145   \n",
       "std      9.387610   11.321079   13.495891   14.200934   14.873109   14.970786   \n",
       "min      0.000000    0.000000    0.000000    0.000000    0.000000    0.000000   \n",
       "25%     28.000000   41.000000   58.000000   62.000000   64.000000   66.000000   \n",
       "50%     35.000000   48.000000   65.000000   69.000000   72.000000   74.000000   \n",
       "75%     40.000000   55.000000   73.000000   76.000000   80.000000   82.000000   \n",
       "max     57.000000   73.000000   93.000000   99.000000  102.000000  106.000000   \n",
       "\n",
       "           T - 10       T - 9       T - 8       T - 7       T - 6       T - 5  \\\n",
       "count  241.000000  241.000000  241.000000  241.000000  241.000000  241.000000   \n",
       "mean    74.946058   78.041494   82.336100   86.000000   89.269710   92.091286   \n",
       "std     15.096674   15.054842   15.594841   16.089075   16.911962   17.370472   \n",
       "min      0.000000    0.000000    0.000000    0.000000    0.000000    0.000000   \n",
       "25%     68.000000   71.000000   76.000000   80.000000   82.000000   84.000000   \n",
       "50%     77.000000   79.000000   85.000000   87.000000   91.000000   94.000000   \n",
       "75%     84.000000   86.000000   92.000000   95.000000   99.000000  103.000000   \n",
       "max    106.000000  112.000000  113.000000  118.000000  121.000000  121.000000   \n",
       "\n",
       "            T - 4       T - 3       T - 2       T - 1      Actual  \n",
       "count  241.000000  241.000000  241.000000  241.000000  241.000000  \n",
       "mean    94.688797   97.373444  101.165975  110.008299  116.381743  \n",
       "std     17.468264   17.589816   17.547004   17.785057   17.629388  \n",
       "min      0.000000    0.000000    0.000000    3.000000   11.000000  \n",
       "25%     88.000000   91.000000   95.000000  102.000000  110.000000  \n",
       "50%     97.000000  100.000000  103.000000  112.000000  117.000000  \n",
       "75%    106.000000  107.000000  111.000000  119.000000  126.000000  \n",
       "max    124.000000  127.000000  131.000000  139.000000  145.000000  "
      ]
     },
     "execution_count": 5,
     "metadata": {},
     "output_type": "execute_result"
    }
   ],
   "source": [
    "df.describe()"
   ]
  },
  {
   "cell_type": "code",
   "execution_count": 108,
   "metadata": {},
   "outputs": [
    {
     "data": {
      "image/png": "[encoded data removed]",
      "text/plain": [
       "<Figure size 1080x1080 with 2 Axes>"
      ]
     },
     "metadata": {
      "needs_background": "light"
     },
     "output_type": "display_data"
    }
   ],
   "source": [
    "fig = plt.figure(figsize=(15,15))\n",
    "sns.heatmap(df.corr(), annot=True)\n",
    "plt.savefig(\"Dataset_correlation.png\", dpi = 300)"
   ]
  },
  {
   "cell_type": "markdown",
   "metadata": {},
   "source": [
    "### Corr(T-1,Actual)=0.964 \n",
    "### Corr(T-3,Actual)=0.913\n",
    "### Corr(T-7,Actual)=0.896\n",
    "### Corr(T-14,Actual)=0.801\n",
    "### Corr(T-21,Actual)=0.702\n",
    "### Corr(T-28,Actual)=0.608\n",
    "\n",
    "## Average number of surgery cases increases  as we move closer to actual day\n",
    "## As the gap from surgery day increase, the correlation decreases\n",
    "## From the correlation matrix, almost all the correlations are significantly high."
   ]
  },
  {
   "cell_type": "code",
   "execution_count": 17,
   "metadata": {},
   "outputs": [
    {
     "data": {
      "text/plain": [
       "DOW\n",
       "Fri    105.612245\n",
       "Mon    116.255319\n",
       "Thu    124.083333\n",
       "Tue    119.081633\n",
       "Wed    117.041667\n",
       "Name: Actual, dtype: float64"
      ]
     },
     "execution_count": 17,
     "metadata": {},
     "output_type": "execute_result"
    }
   ],
   "source": [
    "df.groupby('DOW')['Actual'].mean()"
   ]
  },
  {
   "cell_type": "code",
   "execution_count": 111,
   "metadata": {},
   "outputs": [
    {
     "data": {
      "image/png": "[encoded data removed]",
      "text/plain": [
       "<Figure size 720x720 with 2 Axes>"
      ]
     },
     "metadata": {
      "needs_background": "light"
     },
     "output_type": "display_data"
    },
    {
     "data": {
      "text/plain": [
       "<Figure size 432x288 with 0 Axes>"
      ]
     },
     "metadata": {},
     "output_type": "display_data"
    }
   ],
   "source": [
    "fig = plt.figure(figsize=(10, 10))\n",
    "plt.subplot(2,2,1)\n",
    "plt.bar(x=['Mon', 'Tues', 'Wed', 'Thurs', 'Friday'], height = df.groupby('DOW')['Actual'].mean(),color = 'r')\n",
    "plt.title(\"Overall Mean\")\n",
    "plt.subplot(2,2,2)\n",
    "plt.bar(x=['Mon', 'Tues', 'Wed', 'Thurs', 'Friday'], height = df.groupby('DOW')['Actual'].std(), color = 'g')\n",
    "plt.title(\"Overall Standard Deviation\")\n",
    "plt.show()\n",
    "plt.savefig(\"Mean_SD.jpg\")"
   ]
  },
  {
   "cell_type": "markdown",
   "metadata": {},
   "source": [
    "## Average of actual surgery is 116 with standard deviation of 17.63"
   ]
  },
  {
   "cell_type": "code",
   "execution_count": 35,
   "metadata": {},
   "outputs": [
    {
     "data": {
      "image/png": "[encoded data removed]",
      "text/plain": [
       "<Figure size 720x720 with 2 Axes>"
      ]
     },
     "metadata": {
      "needs_background": "light"
     },
     "output_type": "display_data"
    }
   ],
   "source": [
    "# Validating for T - 1\n",
    "fig = plt.figure(figsize=(10, 10))\n",
    "plt.subplot(2,2,1)\n",
    "plt.bar(x=['Mon', 'Tues', 'Wed', 'Thurs', 'Friday'], height = df.groupby('DOW')['T - 1'].mean(),color = 'r')\n",
    "plt.title(\"T-1 Mean\")\n",
    "plt.subplot(2,2,2)\n",
    "plt.bar(x=['Mon', 'Tues', 'Wed', 'Thurs', 'Friday'], height = df.groupby('DOW')['T - 1'].std(), color = 'g')\n",
    "plt.title(\"T-1 Standard Deviation\")\n",
    "plt.show()"
   ]
  },
  {
   "cell_type": "markdown",
   "metadata": {},
   "source": [
    "## Check the value count for each Day of the Week"
   ]
  },
  {
   "cell_type": "code",
   "execution_count": 29,
   "metadata": {},
   "outputs": [
    {
     "data": {
      "text/plain": [
       "Tue    49\n",
       "Fri    49\n",
       "Wed    48\n",
       "Thu    48\n",
       "Mon    47\n",
       "Name: DOW, dtype: int64"
      ]
     },
     "execution_count": 29,
     "metadata": {},
     "output_type": "execute_result"
    }
   ],
   "source": [
    "df['DOW'].value_counts()"
   ]
  },
  {
   "cell_type": "markdown",
   "metadata": {},
   "source": [
    "## Trend of Number of Surgeries performed by Day of Week"
   ]
  },
  {
   "cell_type": "code",
   "execution_count": 112,
   "metadata": {
    "scrolled": true
   },
   "outputs": [
    {
     "data": {
      "image/png": "[encoded data removed]",
      "text/plain": [
       "<Figure size 432x288 with 1 Axes>"
      ]
     },
     "metadata": {
      "needs_background": "light"
     },
     "output_type": "display_data"
    }
   ],
   "source": [
    "df2 = df[['DOW', 'Actual']]\n",
    "ax = sns.barplot(x='DOW',y='Actual', data=df, palette='coolwarm')\n",
    "plt.savefig(\"Weekly_Distribution.png\")"
   ]
  },
  {
   "cell_type": "code",
   "execution_count": 113,
   "metadata": {},
   "outputs": [
    {
     "data": {
      "image/png": "[encoded data removed]",
      "text/plain": [
       "<Figure size 432x288 with 1 Axes>"
      ]
     },
     "metadata": {
      "needs_background": "light"
     },
     "output_type": "display_data"
    }
   ],
   "source": [
    "sns.boxplot(x='DOW',y='Actual', data=df, palette='coolwarm')\n",
    "plt.savefig(\"Outlier_Detection.png\")"
   ]
  },
  {
   "cell_type": "markdown",
   "metadata": {},
   "source": [
    "## Fridays have lowest number of surgeries which may be indicate surgeon preferences\n",
    "## Thursdays have lowest number of surgeries\n",
    "## Alternatively, the high number of surgeries on Thursday might be due to add-on cases "
   ]
  },
  {
   "cell_type": "markdown",
   "metadata": {},
   "source": [
    "## Collecting a test sample for Null Hypothesis Testing"
   ]
  },
  {
   "cell_type": "code",
   "execution_count": 36,
   "metadata": {},
   "outputs": [],
   "source": [
    "test=df.loc[1:242, 'T - 28':'T - 1']"
   ]
  },
  {
   "cell_type": "code",
   "execution_count": 37,
   "metadata": {},
   "outputs": [],
   "source": [
    "mean = test.mean()\n",
    "maximum = test.max()\n",
    "std = test.std()"
   ]
  },
  {
   "cell_type": "code",
   "execution_count": 38,
   "metadata": {},
   "outputs": [
    {
     "data": {
      "text/html": [
       "<div>\n",
       "<style scoped>\n",
       "    .dataframe tbody tr th:only-of-type {\n",
       "        vertical-align: middle;\n",
       "    }\n",
       "\n",
       "    .dataframe tbody tr th {\n",
       "        vertical-align: top;\n",
       "    }\n",
       "\n",
       "    .dataframe thead th {\n",
       "        text-align: right;\n",
       "    }\n",
       "</style>\n",
       "<table border=\"1\" class=\"dataframe\">\n",
       "  <thead>\n",
       "    <tr style=\"text-align: right;\">\n",
       "      <th></th>\n",
       "      <th>Mean</th>\n",
       "      <th>Maximum</th>\n",
       "      <th>Standard Deviation</th>\n",
       "    </tr>\n",
       "  </thead>\n",
       "  <tbody>\n",
       "    <tr>\n",
       "      <th>T - 28</th>\n",
       "      <td>34.245833</td>\n",
       "      <td>57</td>\n",
       "      <td>9.404107</td>\n",
       "    </tr>\n",
       "    <tr>\n",
       "      <th>T - 21</th>\n",
       "      <td>47.250000</td>\n",
       "      <td>73</td>\n",
       "      <td>11.343809</td>\n",
       "    </tr>\n",
       "    <tr>\n",
       "      <th>T - 14</th>\n",
       "      <td>64.458333</td>\n",
       "      <td>93</td>\n",
       "      <td>13.521033</td>\n",
       "    </tr>\n",
       "    <tr>\n",
       "      <th>T - 13</th>\n",
       "      <td>67.837500</td>\n",
       "      <td>99</td>\n",
       "      <td>14.227186</td>\n",
       "    </tr>\n",
       "    <tr>\n",
       "      <th>T - 12</th>\n",
       "      <td>70.525000</td>\n",
       "      <td>102</td>\n",
       "      <td>14.899924</td>\n",
       "    </tr>\n",
       "    <tr>\n",
       "      <th>T - 11</th>\n",
       "      <td>72.375000</td>\n",
       "      <td>106</td>\n",
       "      <td>15.001290</td>\n",
       "    </tr>\n",
       "    <tr>\n",
       "      <th>T - 10</th>\n",
       "      <td>74.954167</td>\n",
       "      <td>106</td>\n",
       "      <td>15.127699</td>\n",
       "    </tr>\n",
       "    <tr>\n",
       "      <th>T - 9</th>\n",
       "      <td>78.062500</td>\n",
       "      <td>112</td>\n",
       "      <td>15.082765</td>\n",
       "    </tr>\n",
       "    <tr>\n",
       "      <th>T - 8</th>\n",
       "      <td>82.375000</td>\n",
       "      <td>113</td>\n",
       "      <td>15.615711</td>\n",
       "    </tr>\n",
       "    <tr>\n",
       "      <th>T - 7</th>\n",
       "      <td>86.025000</td>\n",
       "      <td>118</td>\n",
       "      <td>16.118008</td>\n",
       "    </tr>\n",
       "    <tr>\n",
       "      <th>T - 6</th>\n",
       "      <td>89.291667</td>\n",
       "      <td>121</td>\n",
       "      <td>16.943863</td>\n",
       "    </tr>\n",
       "    <tr>\n",
       "      <th>T - 5</th>\n",
       "      <td>92.104167</td>\n",
       "      <td>121</td>\n",
       "      <td>17.405621</td>\n",
       "    </tr>\n",
       "    <tr>\n",
       "      <th>T - 4</th>\n",
       "      <td>94.691667</td>\n",
       "      <td>124</td>\n",
       "      <td>17.504713</td>\n",
       "    </tr>\n",
       "    <tr>\n",
       "      <th>T - 3</th>\n",
       "      <td>97.370833</td>\n",
       "      <td>127</td>\n",
       "      <td>17.626530</td>\n",
       "    </tr>\n",
       "    <tr>\n",
       "      <th>T - 2</th>\n",
       "      <td>101.170833</td>\n",
       "      <td>131</td>\n",
       "      <td>17.583512</td>\n",
       "    </tr>\n",
       "    <tr>\n",
       "      <th>T - 1</th>\n",
       "      <td>110.033333</td>\n",
       "      <td>139</td>\n",
       "      <td>17.817970</td>\n",
       "    </tr>\n",
       "  </tbody>\n",
       "</table>\n",
       "</div>"
      ],
      "text/plain": [
       "              Mean  Maximum  Standard Deviation\n",
       "T - 28   34.245833       57            9.404107\n",
       "T - 21   47.250000       73           11.343809\n",
       "T - 14   64.458333       93           13.521033\n",
       "T - 13   67.837500       99           14.227186\n",
       "T - 12   70.525000      102           14.899924\n",
       "T - 11   72.375000      106           15.001290\n",
       "T - 10   74.954167      106           15.127699\n",
       "T - 9    78.062500      112           15.082765\n",
       "T - 8    82.375000      113           15.615711\n",
       "T - 7    86.025000      118           16.118008\n",
       "T - 6    89.291667      121           16.943863\n",
       "T - 5    92.104167      121           17.405621\n",
       "T - 4    94.691667      124           17.504713\n",
       "T - 3    97.370833      127           17.626530\n",
       "T - 2   101.170833      131           17.583512\n",
       "T - 1   110.033333      139           17.817970"
      ]
     },
     "execution_count": 38,
     "metadata": {},
     "output_type": "execute_result"
    }
   ],
   "source": [
    "a = pd.DataFrame(mean)\n",
    "b = pd.DataFrame(maximum)\n",
    "c = pd.DataFrame(std)\n",
    "new = pd.concat([a,b,c], axis = 1)\n",
    "new.columns = ['Mean', 'Maximum', 'Standard Deviation']\n",
    "new"
   ]
  },
  {
   "cell_type": "markdown",
   "metadata": {},
   "source": [
    "## ANOVA Testing"
   ]
  },
  {
   "cell_type": "markdown",
   "metadata": {},
   "source": [
    "## Null Hypothesis: Total surgical case volume does not differ based on the day of week\n",
    "## Alternative Hypothesis: Total surgical case volume differs based on the day of week"
   ]
  },
  {
   "cell_type": "code",
   "execution_count": 39,
   "metadata": {},
   "outputs": [
    {
     "data": {
      "text/html": [
       "<div>\n",
       "<style scoped>\n",
       "    .dataframe tbody tr th:only-of-type {\n",
       "        vertical-align: middle;\n",
       "    }\n",
       "\n",
       "    .dataframe tbody tr th {\n",
       "        vertical-align: top;\n",
       "    }\n",
       "\n",
       "    .dataframe thead th {\n",
       "        text-align: right;\n",
       "    }\n",
       "</style>\n",
       "<table border=\"1\" class=\"dataframe\">\n",
       "  <thead>\n",
       "    <tr style=\"text-align: right;\">\n",
       "      <th></th>\n",
       "      <th>sum_sq</th>\n",
       "      <th>df</th>\n",
       "      <th>F</th>\n",
       "      <th>PR(&gt;F)</th>\n",
       "    </tr>\n",
       "  </thead>\n",
       "  <tbody>\n",
       "    <tr>\n",
       "      <th>DOW</th>\n",
       "      <td>8909.054042</td>\n",
       "      <td>4.0</td>\n",
       "      <td>8.002734</td>\n",
       "      <td>0.000005</td>\n",
       "    </tr>\n",
       "    <tr>\n",
       "      <th>Residual</th>\n",
       "      <td>65681.825626</td>\n",
       "      <td>236.0</td>\n",
       "      <td>NaN</td>\n",
       "      <td>NaN</td>\n",
       "    </tr>\n",
       "  </tbody>\n",
       "</table>\n",
       "</div>"
      ],
      "text/plain": [
       "                sum_sq     df         F    PR(>F)\n",
       "DOW        8909.054042    4.0  8.002734  0.000005\n",
       "Residual  65681.825626  236.0       NaN       NaN"
      ]
     },
     "execution_count": 39,
     "metadata": {},
     "output_type": "execute_result"
    }
   ],
   "source": [
    "import statsmodels.api as sm\n",
    "from statsmodels.formula.api import ols\n",
    "\n",
    "model = ols('Actual ~ DOW', data=df).fit()\n",
    "aov_table = sm.stats.anova_lm(model, typ=2)\n",
    "aov_table"
   ]
  },
  {
   "cell_type": "markdown",
   "metadata": {},
   "source": [
    "## The p value obtained from ANOVA analysis is significant (p < 0.05)\n",
    "## Therefore, we can conclude that there are significant differences among treatments \n",
    "## We reject the null hypothesis and accept alternative hypothesis that total surgical case    volume differ by DOW"
   ]
  },
  {
   "cell_type": "markdown",
   "metadata": {},
   "source": [
    "## Perform multiple pairwise comparison (Tukey HSD)\n",
    "## Tukey test results will provide the difference between combination of any two days"
   ]
  },
  {
   "cell_type": "code",
   "execution_count": 40,
   "metadata": {},
   "outputs": [
    {
     "name": "stdout",
     "output_type": "stream",
     "text": [
      " Multiple Comparison of Means - Tukey HSD, FWER=0.05 \n",
      "=====================================================\n",
      "group1 group2 meandiff p-adj   lower    upper  reject\n",
      "-----------------------------------------------------\n",
      "   Fri    Mon  10.6431  0.017   1.2798 20.0063   True\n",
      "   Fri    Thu  18.4711    0.0   9.1577 27.7844   True\n",
      "   Fri    Tue  13.4694 0.0008   4.2042 22.7346   True\n",
      "   Fri    Wed  11.4294 0.0077   2.1161 20.7428   True\n",
      "   Mon    Thu    7.828 0.1529  -1.5829 17.2389  False\n",
      "   Mon    Tue   2.8263 0.9212   -6.537 12.1896  False\n",
      "   Mon    Wed   0.7863 0.9994  -8.6246 10.1972  False\n",
      "   Thu    Tue  -5.0017 0.5789 -14.3151  4.3117  False\n",
      "   Thu    Wed  -7.0417 0.2376 -16.4029  2.3196  False\n",
      "   Tue    Wed    -2.04 0.9747 -11.3533  7.2734  False\n",
      "-----------------------------------------------------\n"
     ]
    }
   ],
   "source": [
    "from statsmodels.stats.multicomp import pairwise_tukeyhsd\n",
    "tukey = pairwise_tukeyhsd(endog=df['Actual'], groups=df['DOW'], alpha=0.05)\n",
    "print(tukey)"
   ]
  },
  {
   "cell_type": "markdown",
   "metadata": {},
   "source": [
    "# Approaches:\n",
    "\n",
    "Model 1: Linear Regression <br>\n",
    "Model 2: Time Series (Simple Moving Average)\n",
    "\n",
    "Dependent variable: Actual Surgery <br>\n",
    "Independent variables: T - 28 to T - 4 <br><br>\n",
    "We will not consider last 3 days for our model building: \n",
    "1. Business: Stakeholders would want to know scheduled surgery atleast a few days before actual date\n",
    "2. Technical: Highest correlation with the actual surgery variable (from previous corr EDA)"
   ]
  },
  {
   "cell_type": "markdown",
   "metadata": {},
   "source": [
    "## Linear Regression\n",
    "\n",
    "Data Cleaning: Removed outliers to make the dependent variable uniformly distributed\n",
    "\n",
    "Regression Equation:\n",
    "\n",
    "x = a1*T-28 + a2*T-21 + ..... + ax*T-1 + ax*DOW"
   ]
  },
  {
   "cell_type": "code",
   "execution_count": 41,
   "metadata": {},
   "outputs": [
    {
     "data": {
      "text/plain": [
       "Index(['SurgDate', 'DOW', 'T - 28', 'T - 21', 'T - 14', 'T - 13', 'T - 12',\n",
       "       'T - 11', 'T - 10', 'T - 9', 'T - 8', 'T - 7', 'T - 6', 'T - 5',\n",
       "       'T - 4', 'T - 3', 'T - 2', 'T - 1', 'Actual'],\n",
       "      dtype='object')"
      ]
     },
     "execution_count": 41,
     "metadata": {},
     "output_type": "execute_result"
    }
   ],
   "source": [
    "df.columns"
   ]
  },
  {
   "cell_type": "code",
   "execution_count": 42,
   "metadata": {},
   "outputs": [],
   "source": [
    "df1 = df.drop(columns = ['SurgDate', 'DOW'])"
   ]
  },
  {
   "cell_type": "code",
   "execution_count": 46,
   "metadata": {},
   "outputs": [
    {
     "data": {
      "application/javascript": [
       "\n",
       "        if (window._pyforest_update_imports_cell) { window._pyforest_update_imports_cell('from scipy import stats'); }\n",
       "    "
      ],
      "text/plain": [
       "<IPython.core.display.Javascript object>"
      ]
     },
     "metadata": {},
     "output_type": "display_data"
    },
    {
     "data": {
      "text/html": [
       "<div>\n",
       "<style scoped>\n",
       "    .dataframe tbody tr th:only-of-type {\n",
       "        vertical-align: middle;\n",
       "    }\n",
       "\n",
       "    .dataframe tbody tr th {\n",
       "        vertical-align: top;\n",
       "    }\n",
       "\n",
       "    .dataframe thead th {\n",
       "        text-align: right;\n",
       "    }\n",
       "</style>\n",
       "<table border=\"1\" class=\"dataframe\">\n",
       "  <thead>\n",
       "    <tr style=\"text-align: right;\">\n",
       "      <th></th>\n",
       "      <th>T - 28</th>\n",
       "      <th>T - 21</th>\n",
       "      <th>T - 14</th>\n",
       "      <th>T - 13</th>\n",
       "      <th>T - 12</th>\n",
       "      <th>T - 11</th>\n",
       "      <th>T - 10</th>\n",
       "      <th>T - 9</th>\n",
       "      <th>T - 8</th>\n",
       "      <th>T - 7</th>\n",
       "      <th>T - 6</th>\n",
       "      <th>T - 5</th>\n",
       "      <th>T - 4</th>\n",
       "      <th>T - 3</th>\n",
       "      <th>T - 2</th>\n",
       "      <th>T - 1</th>\n",
       "      <th>Actual</th>\n",
       "    </tr>\n",
       "  </thead>\n",
       "  <tbody>\n",
       "    <tr>\n",
       "      <th>0</th>\n",
       "      <td>38</td>\n",
       "      <td>45</td>\n",
       "      <td>60</td>\n",
       "      <td>63</td>\n",
       "      <td>65</td>\n",
       "      <td>70</td>\n",
       "      <td>73</td>\n",
       "      <td>73</td>\n",
       "      <td>73</td>\n",
       "      <td>80</td>\n",
       "      <td>84</td>\n",
       "      <td>89</td>\n",
       "      <td>94</td>\n",
       "      <td>98</td>\n",
       "      <td>100</td>\n",
       "      <td>104</td>\n",
       "      <td>106</td>\n",
       "    </tr>\n",
       "    <tr>\n",
       "      <th>1</th>\n",
       "      <td>35</td>\n",
       "      <td>47</td>\n",
       "      <td>65</td>\n",
       "      <td>68</td>\n",
       "      <td>78</td>\n",
       "      <td>82</td>\n",
       "      <td>82</td>\n",
       "      <td>82</td>\n",
       "      <td>86</td>\n",
       "      <td>89</td>\n",
       "      <td>92</td>\n",
       "      <td>95</td>\n",
       "      <td>99</td>\n",
       "      <td>99</td>\n",
       "      <td>99</td>\n",
       "      <td>114</td>\n",
       "      <td>121</td>\n",
       "    </tr>\n",
       "    <tr>\n",
       "      <th>2</th>\n",
       "      <td>26</td>\n",
       "      <td>43</td>\n",
       "      <td>54</td>\n",
       "      <td>62</td>\n",
       "      <td>72</td>\n",
       "      <td>72</td>\n",
       "      <td>72</td>\n",
       "      <td>74</td>\n",
       "      <td>87</td>\n",
       "      <td>94</td>\n",
       "      <td>96</td>\n",
       "      <td>101</td>\n",
       "      <td>102</td>\n",
       "      <td>102</td>\n",
       "      <td>106</td>\n",
       "      <td>114</td>\n",
       "      <td>126</td>\n",
       "    </tr>\n",
       "    <tr>\n",
       "      <th>3</th>\n",
       "      <td>28</td>\n",
       "      <td>48</td>\n",
       "      <td>65</td>\n",
       "      <td>70</td>\n",
       "      <td>72</td>\n",
       "      <td>72</td>\n",
       "      <td>72</td>\n",
       "      <td>82</td>\n",
       "      <td>87</td>\n",
       "      <td>91</td>\n",
       "      <td>94</td>\n",
       "      <td>94</td>\n",
       "      <td>94</td>\n",
       "      <td>97</td>\n",
       "      <td>98</td>\n",
       "      <td>103</td>\n",
       "      <td>114</td>\n",
       "    </tr>\n",
       "    <tr>\n",
       "      <th>4</th>\n",
       "      <td>31</td>\n",
       "      <td>40</td>\n",
       "      <td>50</td>\n",
       "      <td>50</td>\n",
       "      <td>50</td>\n",
       "      <td>54</td>\n",
       "      <td>62</td>\n",
       "      <td>68</td>\n",
       "      <td>71</td>\n",
       "      <td>73</td>\n",
       "      <td>73</td>\n",
       "      <td>73</td>\n",
       "      <td>78</td>\n",
       "      <td>83</td>\n",
       "      <td>87</td>\n",
       "      <td>94</td>\n",
       "      <td>106</td>\n",
       "    </tr>\n",
       "    <tr>\n",
       "      <th>...</th>\n",
       "      <td>...</td>\n",
       "      <td>...</td>\n",
       "      <td>...</td>\n",
       "      <td>...</td>\n",
       "      <td>...</td>\n",
       "      <td>...</td>\n",
       "      <td>...</td>\n",
       "      <td>...</td>\n",
       "      <td>...</td>\n",
       "      <td>...</td>\n",
       "      <td>...</td>\n",
       "      <td>...</td>\n",
       "      <td>...</td>\n",
       "      <td>...</td>\n",
       "      <td>...</td>\n",
       "      <td>...</td>\n",
       "      <td>...</td>\n",
       "    </tr>\n",
       "    <tr>\n",
       "      <th>236</th>\n",
       "      <td>33</td>\n",
       "      <td>49</td>\n",
       "      <td>68</td>\n",
       "      <td>71</td>\n",
       "      <td>82</td>\n",
       "      <td>84</td>\n",
       "      <td>86</td>\n",
       "      <td>86</td>\n",
       "      <td>86</td>\n",
       "      <td>86</td>\n",
       "      <td>91</td>\n",
       "      <td>97</td>\n",
       "      <td>101</td>\n",
       "      <td>103</td>\n",
       "      <td>109</td>\n",
       "      <td>110</td>\n",
       "      <td>118</td>\n",
       "    </tr>\n",
       "    <tr>\n",
       "      <th>237</th>\n",
       "      <td>31</td>\n",
       "      <td>56</td>\n",
       "      <td>68</td>\n",
       "      <td>70</td>\n",
       "      <td>74</td>\n",
       "      <td>78</td>\n",
       "      <td>78</td>\n",
       "      <td>78</td>\n",
       "      <td>78</td>\n",
       "      <td>80</td>\n",
       "      <td>88</td>\n",
       "      <td>94</td>\n",
       "      <td>97</td>\n",
       "      <td>98</td>\n",
       "      <td>98</td>\n",
       "      <td>99</td>\n",
       "      <td>108</td>\n",
       "    </tr>\n",
       "    <tr>\n",
       "      <th>238</th>\n",
       "      <td>39</td>\n",
       "      <td>49</td>\n",
       "      <td>69</td>\n",
       "      <td>78</td>\n",
       "      <td>81</td>\n",
       "      <td>82</td>\n",
       "      <td>82</td>\n",
       "      <td>82</td>\n",
       "      <td>85</td>\n",
       "      <td>88</td>\n",
       "      <td>96</td>\n",
       "      <td>99</td>\n",
       "      <td>99</td>\n",
       "      <td>100</td>\n",
       "      <td>104</td>\n",
       "      <td>115</td>\n",
       "      <td>121</td>\n",
       "    </tr>\n",
       "    <tr>\n",
       "      <th>239</th>\n",
       "      <td>34</td>\n",
       "      <td>51</td>\n",
       "      <td>68</td>\n",
       "      <td>77</td>\n",
       "      <td>75</td>\n",
       "      <td>75</td>\n",
       "      <td>75</td>\n",
       "      <td>79</td>\n",
       "      <td>89</td>\n",
       "      <td>92</td>\n",
       "      <td>98</td>\n",
       "      <td>99</td>\n",
       "      <td>99</td>\n",
       "      <td>97</td>\n",
       "      <td>101</td>\n",
       "      <td>106</td>\n",
       "      <td>114</td>\n",
       "    </tr>\n",
       "    <tr>\n",
       "      <th>240</th>\n",
       "      <td>27</td>\n",
       "      <td>41</td>\n",
       "      <td>63</td>\n",
       "      <td>63</td>\n",
       "      <td>63</td>\n",
       "      <td>63</td>\n",
       "      <td>66</td>\n",
       "      <td>72</td>\n",
       "      <td>73</td>\n",
       "      <td>76</td>\n",
       "      <td>76</td>\n",
       "      <td>77</td>\n",
       "      <td>78</td>\n",
       "      <td>81</td>\n",
       "      <td>86</td>\n",
       "      <td>101</td>\n",
       "      <td>102</td>\n",
       "    </tr>\n",
       "  </tbody>\n",
       "</table>\n",
       "<p>237 rows × 17 columns</p>\n",
       "</div>"
      ],
      "text/plain": [
       "     T - 28  T - 21  T - 14  T - 13  T - 12  T - 11  T - 10  T - 9  T - 8  \\\n",
       "0        38      45      60      63      65      70      73     73     73   \n",
       "1        35      47      65      68      78      82      82     82     86   \n",
       "2        26      43      54      62      72      72      72     74     87   \n",
       "3        28      48      65      70      72      72      72     82     87   \n",
       "4        31      40      50      50      50      54      62     68     71   \n",
       "..      ...     ...     ...     ...     ...     ...     ...    ...    ...   \n",
       "236      33      49      68      71      82      84      86     86     86   \n",
       "237      31      56      68      70      74      78      78     78     78   \n",
       "238      39      49      69      78      81      82      82     82     85   \n",
       "239      34      51      68      77      75      75      75     79     89   \n",
       "240      27      41      63      63      63      63      66     72     73   \n",
       "\n",
       "     T - 7  T - 6  T - 5  T - 4  T - 3  T - 2  T - 1  Actual  \n",
       "0       80     84     89     94     98    100    104     106  \n",
       "1       89     92     95     99     99     99    114     121  \n",
       "2       94     96    101    102    102    106    114     126  \n",
       "3       91     94     94     94     97     98    103     114  \n",
       "4       73     73     73     78     83     87     94     106  \n",
       "..     ...    ...    ...    ...    ...    ...    ...     ...  \n",
       "236     86     91     97    101    103    109    110     118  \n",
       "237     80     88     94     97     98     98     99     108  \n",
       "238     88     96     99     99    100    104    115     121  \n",
       "239     92     98     99     99     97    101    106     114  \n",
       "240     76     76     77     78     81     86    101     102  \n",
       "\n",
       "[237 rows x 17 columns]"
      ]
     },
     "execution_count": 46,
     "metadata": {},
     "output_type": "execute_result"
    }
   ],
   "source": [
    "df1[(np.abs(stats.zscore(df1)) < 3).all(axis=1)]"
   ]
  },
  {
   "cell_type": "code",
   "execution_count": 47,
   "metadata": {},
   "outputs": [],
   "source": [
    "from scipy import stats\n",
    "df1 = df1[(np.abs(stats.zscore(df1)) < 3).all(axis=1)]"
   ]
  },
  {
   "cell_type": "markdown",
   "metadata": {},
   "source": [
    "### Baseline model"
   ]
  },
  {
   "cell_type": "code",
   "execution_count": 23,
   "metadata": {},
   "outputs": [],
   "source": [
    "# x = df1[['T - 28', 'T - 21', 'T - 14', 'T - 13', 'T - 12', 'T - 11', 'T - 10', 'T - 9', 'T - 8', \n",
    "#          'T - 7', 'T - 6', 'T - 5', 'T - 4', 'T - 3', 'T - 2']]\n",
    "# y = df1[['Actual']]"
   ]
  },
  {
   "cell_type": "markdown",
   "metadata": {},
   "source": [
    "## Predicting using 3 columns"
   ]
  },
  {
   "cell_type": "code",
   "execution_count": 114,
   "metadata": {},
   "outputs": [
    {
     "name": "stdout",
     "output_type": "stream",
     "text": [
      "(241, 3) (241, 1)\n"
     ]
    }
   ],
   "source": [
    "x = df[['T - 3', 'T - 2', 'T - 1']]\n",
    "y = df[['Actual']]\n",
    "print(x.shape, y.shape)"
   ]
  },
  {
   "cell_type": "code",
   "execution_count": 116,
   "metadata": {},
   "outputs": [
    {
     "name": "stdout",
     "output_type": "stream",
     "text": [
      "Intercept: \n",
      " [10.96140663]\n",
      "Coefficients: \n",
      " [[-0.14256711  0.15693554  0.94016588]]\n"
     ]
    },
    {
     "data": {
      "image/png": "[encoded data removed]",
      "text/plain": [
       "<Figure size 432x288 with 1 Axes>"
      ]
     },
     "metadata": {
      "needs_background": "light"
     },
     "output_type": "display_data"
    },
    {
     "data": {
      "text/plain": [
       "<Figure size 432x288 with 0 Axes>"
      ]
     },
     "metadata": {},
     "output_type": "display_data"
    }
   ],
   "source": [
    "# 1. With sklearn\n",
    "from sklearn import linear_model\n",
    "import statsmodels.api as sm\n",
    "regr = linear_model.LinearRegression()\n",
    "regr.fit(x, y)\n",
    "\n",
    "print('Intercept: \\n', regr.intercept_)\n",
    "print('Coefficients: \\n', regr.coef_)\n",
    "\n",
    "# T-11 strong negative \n",
    "\n",
    "sns.regplot(x = np.arange(y.shape[0]), y= y)\n",
    "plt.savefig(\"Linear_regression_model.png\")\n",
    "plt.show()"
   ]
  },
  {
   "cell_type": "code",
   "execution_count": 117,
   "metadata": {},
   "outputs": [
    {
     "name": "stdout",
     "output_type": "stream",
     "text": [
      "                                 OLS Regression Results                                \n",
      "=======================================================================================\n",
      "Dep. Variable:                 Actual   R-squared (uncentered):                   0.998\n",
      "Model:                            OLS   Adj. R-squared (uncentered):              0.998\n",
      "Method:                 Least Squares   F-statistic:                          4.535e+04\n",
      "Date:                Fri, 31 Mar 2023   Prob (F-statistic):                        0.00\n",
      "Time:                        20:03:19   Log-Likelihood:                         -725.88\n",
      "No. Observations:                 241   AIC:                                      1458.\n",
      "Df Residuals:                     238   BIC:                                      1468.\n",
      "Df Model:                           3                                                  \n",
      "Covariance Type:            nonrobust                                                  \n",
      "==============================================================================\n",
      "                 coef    std err          t      P>|t|      [0.025      0.975]\n",
      "------------------------------------------------------------------------------\n",
      "T - 3         -0.1908      0.099     -1.926      0.055      -0.386       0.004\n",
      "T - 2          0.1453      0.127      1.144      0.254      -0.105       0.395\n",
      "T - 1          1.0908      0.069     15.891      0.000       0.956       1.226\n",
      "==============================================================================\n",
      "Omnibus:                        4.980   Durbin-Watson:                   1.916\n",
      "Prob(Omnibus):                  0.083   Jarque-Bera (JB):                4.972\n",
      "Skew:                           0.245   Prob(JB):                       0.0833\n",
      "Kurtosis:                       3.506   Cond. No.                         89.7\n",
      "==============================================================================\n",
      "\n",
      "Notes:\n",
      "[1] R² is computed without centering (uncentered) since the model does not contain a constant.\n",
      "[2] Standard Errors assume that the covariance matrix of the errors is correctly specified.\n"
     ]
    }
   ],
   "source": [
    "# 2. With statsmodels\n",
    " \n",
    "model = sm.OLS(y, x).fit()\n",
    "predictions = model.predict(x) \n",
    " \n",
    "print_model = model.summary()\n",
    "print(print_model)"
   ]
  },
  {
   "cell_type": "code",
   "execution_count": 119,
   "metadata": {},
   "outputs": [
    {
     "data": {
      "image/png": "[encoded data removed]",
      "text/plain": [
       "<Figure size 432x288 with 1 Axes>"
      ]
     },
     "metadata": {
      "needs_background": "light"
     },
     "output_type": "display_data"
    }
   ],
   "source": [
    "plt.scatter(x = np.arange(y.shape[0]), y=y, c='red')\n",
    "plt.scatter(x = np.arange(y.shape[0]), y=predictions, c = 'blue')\n",
    "plt.savefig(\"Actual_Predicted.png\")\n",
    "plt.show()"
   ]
  },
  {
   "cell_type": "markdown",
   "metadata": {},
   "source": [
    "## Prediction using 3 columns"
   ]
  },
  {
   "cell_type": "code",
   "execution_count": 120,
   "metadata": {},
   "outputs": [],
   "source": [
    "#Fitting Simple Linear regression data model\n",
    "from sklearn.linear_model import LinearRegression\n",
    "regressorObject=LinearRegression()\n",
    "regressorObject.fit(x,y)\n",
    "\n",
    "#predict number of surgeries for the data set\n",
    "predict = df1.loc[2:242, 'T - 3':'T - 1']\n",
    "y_pred_test_data=regressorObject.predict(predict)"
   ]
  },
  {
   "cell_type": "code",
   "execution_count": 121,
   "metadata": {},
   "outputs": [
    {
     "data": {
      "text/plain": [
       "(235, 1)"
      ]
     },
     "execution_count": 121,
     "metadata": {},
     "output_type": "execute_result"
    }
   ],
   "source": [
    "y_pred_test_data.shape"
   ]
  },
  {
   "cell_type": "code",
   "execution_count": 122,
   "metadata": {},
   "outputs": [
    {
     "data": {
      "image/png": "[encoded data removed]",
      "text/plain": [
       "<Figure size 432x288 with 1 Axes>"
      ]
     },
     "metadata": {
      "needs_background": "light"
     },
     "output_type": "display_data"
    }
   ],
   "source": [
    "plt.scatter(x = np.arange(y.shape[0]), y=y, c='red')\n",
    "plt.scatter(x = np.arange(y_pred_test_data.shape[0]), y=y_pred_test_data, c = 'blue')\n",
    "plt.show()"
   ]
  },
  {
   "cell_type": "code",
   "execution_count": 70,
   "metadata": {},
   "outputs": [],
   "source": [
    "Predicted = pd.DataFrame(y_pred_test_data, columns = ['Predicted'])"
   ]
  },
  {
   "cell_type": "code",
   "execution_count": 123,
   "metadata": {},
   "outputs": [],
   "source": [
    "result = pd.concat([df, Predicted], ignore_index=True, axis=1)\n",
    "result.columns = ['SurgDate', 'DOW', 'T - 28', 'T - 21', 'T - 14', 'T - 13', 'T - 12', 'T - 11',' T - 10', 'T - 9',\n",
    "                  'T - 8', 'T - 7', 'T - 6', 'T - 5', 'T - 4', 'T - 3', 'T - 2', 'T - 1', 'Actual', 'Predicted']\n",
    "result['Predicted'] = round(result['Predicted'])"
   ]
  },
  {
   "cell_type": "code",
   "execution_count": 124,
   "metadata": {},
   "outputs": [
    {
     "data": {
      "text/html": [
       "<div>\n",
       "<style scoped>\n",
       "    .dataframe tbody tr th:only-of-type {\n",
       "        vertical-align: middle;\n",
       "    }\n",
       "\n",
       "    .dataframe tbody tr th {\n",
       "        vertical-align: top;\n",
       "    }\n",
       "\n",
       "    .dataframe thead th {\n",
       "        text-align: right;\n",
       "    }\n",
       "</style>\n",
       "<table border=\"1\" class=\"dataframe\">\n",
       "  <thead>\n",
       "    <tr style=\"text-align: right;\">\n",
       "      <th></th>\n",
       "      <th>SurgDate</th>\n",
       "      <th>DOW</th>\n",
       "      <th>T - 28</th>\n",
       "      <th>T - 21</th>\n",
       "      <th>T - 14</th>\n",
       "      <th>T - 13</th>\n",
       "      <th>T - 12</th>\n",
       "      <th>T - 11</th>\n",
       "      <th>T - 10</th>\n",
       "      <th>T - 9</th>\n",
       "      <th>T - 8</th>\n",
       "      <th>T - 7</th>\n",
       "      <th>T - 6</th>\n",
       "      <th>T - 5</th>\n",
       "      <th>T - 4</th>\n",
       "      <th>T - 3</th>\n",
       "      <th>T - 2</th>\n",
       "      <th>T - 1</th>\n",
       "      <th>Actual</th>\n",
       "      <th>Predicted</th>\n",
       "    </tr>\n",
       "  </thead>\n",
       "  <tbody>\n",
       "    <tr>\n",
       "      <th>225</th>\n",
       "      <td>2012-08-23</td>\n",
       "      <td>Thu</td>\n",
       "      <td>41</td>\n",
       "      <td>48</td>\n",
       "      <td>89</td>\n",
       "      <td>98</td>\n",
       "      <td>98</td>\n",
       "      <td>98</td>\n",
       "      <td>100</td>\n",
       "      <td>110</td>\n",
       "      <td>113</td>\n",
       "      <td>117</td>\n",
       "      <td>112</td>\n",
       "      <td>112</td>\n",
       "      <td>113</td>\n",
       "      <td>114</td>\n",
       "      <td>119</td>\n",
       "      <td>129</td>\n",
       "      <td>127</td>\n",
       "      <td>118.0</td>\n",
       "    </tr>\n",
       "    <tr>\n",
       "      <th>226</th>\n",
       "      <td>2012-08-24</td>\n",
       "      <td>Fri</td>\n",
       "      <td>29</td>\n",
       "      <td>34</td>\n",
       "      <td>67</td>\n",
       "      <td>67</td>\n",
       "      <td>67</td>\n",
       "      <td>67</td>\n",
       "      <td>75</td>\n",
       "      <td>91</td>\n",
       "      <td>95</td>\n",
       "      <td>104</td>\n",
       "      <td>104</td>\n",
       "      <td>104</td>\n",
       "      <td>108</td>\n",
       "      <td>115</td>\n",
       "      <td>119</td>\n",
       "      <td>126</td>\n",
       "      <td>126</td>\n",
       "      <td>119.0</td>\n",
       "    </tr>\n",
       "    <tr>\n",
       "      <th>227</th>\n",
       "      <td>2012-08-27</td>\n",
       "      <td>Mon</td>\n",
       "      <td>40</td>\n",
       "      <td>44</td>\n",
       "      <td>66</td>\n",
       "      <td>69</td>\n",
       "      <td>79</td>\n",
       "      <td>82</td>\n",
       "      <td>85</td>\n",
       "      <td>85</td>\n",
       "      <td>86</td>\n",
       "      <td>92</td>\n",
       "      <td>98</td>\n",
       "      <td>107</td>\n",
       "      <td>109</td>\n",
       "      <td>111</td>\n",
       "      <td>116</td>\n",
       "      <td>123</td>\n",
       "      <td>127</td>\n",
       "      <td>105.0</td>\n",
       "    </tr>\n",
       "    <tr>\n",
       "      <th>228</th>\n",
       "      <td>2012-08-28</td>\n",
       "      <td>Tue</td>\n",
       "      <td>34</td>\n",
       "      <td>56</td>\n",
       "      <td>69</td>\n",
       "      <td>84</td>\n",
       "      <td>91</td>\n",
       "      <td>94</td>\n",
       "      <td>94</td>\n",
       "      <td>94</td>\n",
       "      <td>99</td>\n",
       "      <td>103</td>\n",
       "      <td>110</td>\n",
       "      <td>119</td>\n",
       "      <td>124</td>\n",
       "      <td>125</td>\n",
       "      <td>128</td>\n",
       "      <td>139</td>\n",
       "      <td>139</td>\n",
       "      <td>125.0</td>\n",
       "    </tr>\n",
       "    <tr>\n",
       "      <th>229</th>\n",
       "      <td>2012-08-29</td>\n",
       "      <td>Wed</td>\n",
       "      <td>36</td>\n",
       "      <td>57</td>\n",
       "      <td>76</td>\n",
       "      <td>81</td>\n",
       "      <td>87</td>\n",
       "      <td>87</td>\n",
       "      <td>87</td>\n",
       "      <td>92</td>\n",
       "      <td>99</td>\n",
       "      <td>101</td>\n",
       "      <td>102</td>\n",
       "      <td>104</td>\n",
       "      <td>103</td>\n",
       "      <td>103</td>\n",
       "      <td>107</td>\n",
       "      <td>114</td>\n",
       "      <td>125</td>\n",
       "      <td>99.0</td>\n",
       "    </tr>\n",
       "    <tr>\n",
       "      <th>230</th>\n",
       "      <td>2012-08-30</td>\n",
       "      <td>Thu</td>\n",
       "      <td>29</td>\n",
       "      <td>59</td>\n",
       "      <td>86</td>\n",
       "      <td>88</td>\n",
       "      <td>88</td>\n",
       "      <td>88</td>\n",
       "      <td>97</td>\n",
       "      <td>102</td>\n",
       "      <td>105</td>\n",
       "      <td>106</td>\n",
       "      <td>112</td>\n",
       "      <td>113</td>\n",
       "      <td>113</td>\n",
       "      <td>113</td>\n",
       "      <td>115</td>\n",
       "      <td>124</td>\n",
       "      <td>126</td>\n",
       "      <td>120.0</td>\n",
       "    </tr>\n",
       "    <tr>\n",
       "      <th>231</th>\n",
       "      <td>2012-08-31</td>\n",
       "      <td>Fri</td>\n",
       "      <td>19</td>\n",
       "      <td>38</td>\n",
       "      <td>58</td>\n",
       "      <td>58</td>\n",
       "      <td>58</td>\n",
       "      <td>62</td>\n",
       "      <td>68</td>\n",
       "      <td>71</td>\n",
       "      <td>80</td>\n",
       "      <td>86</td>\n",
       "      <td>86</td>\n",
       "      <td>86</td>\n",
       "      <td>94</td>\n",
       "      <td>93</td>\n",
       "      <td>99</td>\n",
       "      <td>116</td>\n",
       "      <td>124</td>\n",
       "      <td>115.0</td>\n",
       "    </tr>\n",
       "    <tr>\n",
       "      <th>232</th>\n",
       "      <td>2012-09-04</td>\n",
       "      <td>Tue</td>\n",
       "      <td>23</td>\n",
       "      <td>36</td>\n",
       "      <td>51</td>\n",
       "      <td>57</td>\n",
       "      <td>66</td>\n",
       "      <td>72</td>\n",
       "      <td>73</td>\n",
       "      <td>73</td>\n",
       "      <td>74</td>\n",
       "      <td>80</td>\n",
       "      <td>84</td>\n",
       "      <td>92</td>\n",
       "      <td>105</td>\n",
       "      <td>106</td>\n",
       "      <td>106</td>\n",
       "      <td>116</td>\n",
       "      <td>114</td>\n",
       "      <td>117.0</td>\n",
       "    </tr>\n",
       "    <tr>\n",
       "      <th>233</th>\n",
       "      <td>2012-09-05</td>\n",
       "      <td>Wed</td>\n",
       "      <td>27</td>\n",
       "      <td>37</td>\n",
       "      <td>47</td>\n",
       "      <td>54</td>\n",
       "      <td>60</td>\n",
       "      <td>60</td>\n",
       "      <td>60</td>\n",
       "      <td>61</td>\n",
       "      <td>70</td>\n",
       "      <td>70</td>\n",
       "      <td>74</td>\n",
       "      <td>81</td>\n",
       "      <td>81</td>\n",
       "      <td>82</td>\n",
       "      <td>85</td>\n",
       "      <td>95</td>\n",
       "      <td>103</td>\n",
       "      <td>120.0</td>\n",
       "    </tr>\n",
       "    <tr>\n",
       "      <th>234</th>\n",
       "      <td>2012-09-06</td>\n",
       "      <td>Thu</td>\n",
       "      <td>23</td>\n",
       "      <td>42</td>\n",
       "      <td>70</td>\n",
       "      <td>80</td>\n",
       "      <td>81</td>\n",
       "      <td>81</td>\n",
       "      <td>87</td>\n",
       "      <td>86</td>\n",
       "      <td>93</td>\n",
       "      <td>99</td>\n",
       "      <td>105</td>\n",
       "      <td>105</td>\n",
       "      <td>105</td>\n",
       "      <td>106</td>\n",
       "      <td>108</td>\n",
       "      <td>119</td>\n",
       "      <td>126</td>\n",
       "      <td>107.0</td>\n",
       "    </tr>\n",
       "  </tbody>\n",
       "</table>\n",
       "</div>"
      ],
      "text/plain": [
       "      SurgDate  DOW  T - 28  T - 21  T - 14  T - 13  T - 12  T - 11   T - 10  \\\n",
       "225 2012-08-23  Thu      41      48      89      98      98      98      100   \n",
       "226 2012-08-24  Fri      29      34      67      67      67      67       75   \n",
       "227 2012-08-27  Mon      40      44      66      69      79      82       85   \n",
       "228 2012-08-28  Tue      34      56      69      84      91      94       94   \n",
       "229 2012-08-29  Wed      36      57      76      81      87      87       87   \n",
       "230 2012-08-30  Thu      29      59      86      88      88      88       97   \n",
       "231 2012-08-31  Fri      19      38      58      58      58      62       68   \n",
       "232 2012-09-04  Tue      23      36      51      57      66      72       73   \n",
       "233 2012-09-05  Wed      27      37      47      54      60      60       60   \n",
       "234 2012-09-06  Thu      23      42      70      80      81      81       87   \n",
       "\n",
       "     T - 9  T - 8  T - 7  T - 6  T - 5  T - 4  T - 3  T - 2  T - 1  Actual  \\\n",
       "225    110    113    117    112    112    113    114    119    129     127   \n",
       "226     91     95    104    104    104    108    115    119    126     126   \n",
       "227     85     86     92     98    107    109    111    116    123     127   \n",
       "228     94     99    103    110    119    124    125    128    139     139   \n",
       "229     92     99    101    102    104    103    103    107    114     125   \n",
       "230    102    105    106    112    113    113    113    115    124     126   \n",
       "231     71     80     86     86     86     94     93     99    116     124   \n",
       "232     73     74     80     84     92    105    106    106    116     114   \n",
       "233     61     70     70     74     81     81     82     85     95     103   \n",
       "234     86     93     99    105    105    105    106    108    119     126   \n",
       "\n",
       "     Predicted  \n",
       "225      118.0  \n",
       "226      119.0  \n",
       "227      105.0  \n",
       "228      125.0  \n",
       "229       99.0  \n",
       "230      120.0  \n",
       "231      115.0  \n",
       "232      117.0  \n",
       "233      120.0  \n",
       "234      107.0  "
      ]
     },
     "execution_count": 124,
     "metadata": {},
     "output_type": "execute_result"
    }
   ],
   "source": [
    "final = result.dropna()\n",
    "final.tail(10)"
   ]
  },
  {
   "cell_type": "markdown",
   "metadata": {},
   "source": [
    "## Calculating the Root Mean Squared Error"
   ]
  },
  {
   "cell_type": "code",
   "execution_count": 125,
   "metadata": {},
   "outputs": [
    {
     "name": "stdout",
     "output_type": "stream",
     "text": [
      "19.418679316137304\n"
     ]
    }
   ],
   "source": [
    "from math import sqrt\n",
    "from sklearn.metrics import mean_squared_error\n",
    "error = sqrt(mean_squared_error(final['Actual'], final['Predicted']))\n",
    "print(error)"
   ]
  },
  {
   "cell_type": "code",
   "execution_count": 127,
   "metadata": {},
   "outputs": [
    {
     "data": {
      "image/png": "[encoded data removed]",
      "text/plain": [
       "<Figure size 432x288 with 1 Axes>"
      ]
     },
     "metadata": {
      "needs_background": "light"
     },
     "output_type": "display_data"
    }
   ],
   "source": [
    "plt.scatter(x = np.arange(y_actual.shape[0]), y=y_actual, c='red')\n",
    "plt.scatter(x = np.arange(y_predicted.shape[0]), y=y_predicted, c = 'blue')\n",
    "plt.show()"
   ]
  },
  {
   "cell_type": "code",
   "execution_count": 128,
   "metadata": {},
   "outputs": [
    {
     "name": "stdout",
     "output_type": "stream",
     "text": [
      "Results by manual calculation:\n",
      "MAE: 13.970212765957447\n",
      "MSE: 377.0851063829787\n",
      "RMSE: 19.418679316137304\n",
      "R-Squared: -0.19587322731079548\n"
     ]
    }
   ],
   "source": [
    "y = final['Actual']\n",
    "yhat = final['Predicted']\n",
    "d = y - yhat\n",
    "mse_f = np.mean(d**2)\n",
    "mae_f = np.mean(abs(d))\n",
    "rmse_f = np.sqrt(mse_f)\n",
    "r2_f = 1-(sum(d**2)/sum((y-np.mean(y))**2))\n",
    "\n",
    "print(\"Results by manual calculation:\")\n",
    "print(\"MAE:\",mae_f)\n",
    "print(\"MSE:\", mse_f)\n",
    "print(\"RMSE:\", rmse_f)\n",
    "print(\"R-Squared:\", r2_f)"
   ]
  },
  {
   "cell_type": "markdown",
   "metadata": {},
   "source": [
    "### Predicting results for 3 days before the Surgery Date"
   ]
  },
  {
   "cell_type": "code",
   "execution_count": 129,
   "metadata": {},
   "outputs": [],
   "source": [
    "x = df1[['T - 28', 'T - 21', 'T - 14', 'T - 13', 'T - 12', 'T - 11', 'T - 10', 'T - 9', 'T - 8', 'T - 7', \n",
    "         'T - 6', 'T - 5', 'T - 4', 'T - 3', 'T - 2', 'T - 1']]\n",
    "y = df1[['Actual']]"
   ]
  },
  {
   "cell_type": "code",
   "execution_count": 130,
   "metadata": {},
   "outputs": [
    {
     "name": "stdout",
     "output_type": "stream",
     "text": [
      "Intercept: \n",
      " [14.84638197]\n",
      "Coefficients: \n",
      " [[-0.03590406  0.0856059  -0.10080439  0.07939623  0.08764874 -0.20750371\n",
      "   0.03761113  0.10250478  0.00932406  0.12867575 -0.11420405 -0.03460241\n",
      "   0.06443631 -0.15945052  0.12085577  0.87903786]]\n"
     ]
    }
   ],
   "source": [
    "# 1. With sklearn\n",
    "from sklearn import linear_model\n",
    "import statsmodels.api as sm\n",
    "regr = linear_model.LinearRegression()\n",
    "regr.fit(x, y)\n",
    "\n",
    "print('Intercept: \\n', regr.intercept_)\n",
    "print('Coefficients: \\n', regr.coef_)\n",
    "\n",
    "# T-11 strong negative (-0.2075)"
   ]
  },
  {
   "cell_type": "code",
   "execution_count": 131,
   "metadata": {},
   "outputs": [
    {
     "name": "stdout",
     "output_type": "stream",
     "text": [
      "                                 OLS Regression Results                                \n",
      "=======================================================================================\n",
      "Dep. Variable:                 Actual   R-squared (uncentered):                   0.998\n",
      "Model:                            OLS   Adj. R-squared (uncentered):              0.998\n",
      "Method:                 Least Squares   F-statistic:                              8646.\n",
      "Date:                Fri, 31 Mar 2023   Prob (F-statistic):                   4.06e-299\n",
      "Time:                        20:07:36   Log-Likelihood:                         -705.05\n",
      "No. Observations:                 237   AIC:                                      1442.\n",
      "Df Residuals:                     221   BIC:                                      1498.\n",
      "Df Model:                          16                                                  \n",
      "Covariance Type:            nonrobust                                                  \n",
      "==============================================================================\n",
      "                 coef    std err          t      P>|t|      [0.025      0.975]\n",
      "------------------------------------------------------------------------------\n",
      "T - 28        -0.0402      0.079     -0.507      0.612      -0.196       0.116\n",
      "T - 21         0.0955      0.084      1.142      0.254      -0.069       0.260\n",
      "T - 14        -0.1061      0.126     -0.845      0.399      -0.354       0.141\n",
      "T - 13         0.1548      0.189      0.821      0.413      -0.217       0.526\n",
      "T - 12        -0.0594      0.214     -0.278      0.781      -0.480       0.362\n",
      "T - 11        -0.0900      0.210     -0.429      0.669      -0.504       0.324\n",
      "T - 10        -0.0144      0.168     -0.086      0.932      -0.345       0.316\n",
      "T - 9          0.1131      0.150      0.756      0.451      -0.182       0.408\n",
      "T - 8         -0.0078      0.152     -0.052      0.959      -0.307       0.291\n",
      "T - 7          0.2021      0.178      1.133      0.259      -0.149       0.554\n",
      "T - 6         -0.1933      0.193     -1.002      0.317      -0.573       0.187\n",
      "T - 5         -0.0897      0.182     -0.492      0.623      -0.448       0.269\n",
      "T - 4          0.1104      0.183      0.605      0.546      -0.249       0.470\n",
      "T - 3         -0.1945      0.159     -1.227      0.221      -0.507       0.118\n",
      "T - 2          0.1490      0.138      1.083      0.280      -0.122       0.420\n",
      "T - 1          1.0405      0.072     14.501      0.000       0.899       1.182\n",
      "==============================================================================\n",
      "Omnibus:                        6.221   Durbin-Watson:                   1.995\n",
      "Prob(Omnibus):                  0.045   Jarque-Bera (JB):                7.642\n",
      "Skew:                           0.204   Prob(JB):                       0.0219\n",
      "Kurtosis:                       3.779   Cond. No.                         314.\n",
      "==============================================================================\n",
      "\n",
      "Notes:\n",
      "[1] R² is computed without centering (uncentered) since the model does not contain a constant.\n",
      "[2] Standard Errors assume that the covariance matrix of the errors is correctly specified.\n"
     ]
    }
   ],
   "source": [
    "# 2. With statsmodels\n",
    " \n",
    "model = sm.OLS(y, x).fit()\n",
    "predictions = model.predict(x) \n",
    " \n",
    "print_model = model.summary()\n",
    "print(print_model)"
   ]
  },
  {
   "cell_type": "code",
   "execution_count": 132,
   "metadata": {},
   "outputs": [],
   "source": [
    "#Fitting Simple Linear regression data model\n",
    "x = df1.loc[2:242, 'T - 28':'T - 4']\n",
    "y = df1.loc[2:242, 'Actual']\n",
    "from sklearn.linear_model import LinearRegression\n",
    "regressorObject=LinearRegression()\n",
    "regressorObject.fit(x,y)\n",
    "\n",
    "#predict number of surgeries for the data set as P>|t|\n",
    "predict = df1.loc[2:242, 'T - 28':'T - 4']\n",
    "y_pred_test_data=regressorObject.predict(predict)\n",
    "# print(predict.shape, x.shape, y.shape)"
   ]
  },
  {
   "cell_type": "code",
   "execution_count": 133,
   "metadata": {},
   "outputs": [],
   "source": [
    "Predicted = pd.DataFrame(y_pred_test_data, columns = ['Predicted'])"
   ]
  },
  {
   "cell_type": "code",
   "execution_count": 134,
   "metadata": {
    "scrolled": false
   },
   "outputs": [],
   "source": [
    "result2 = pd.concat([df, Predicted], ignore_index=True, axis=1)\n",
    "result2.columns = ['SurgDate', 'DOW', 'T - 28', 'T - 21', 'T - 14', 'T - 13', 'T - 12', 'T - 11',' T - 10', 'T - 9',\n",
    "                  'T - 8', 'T - 7', 'T - 6', 'T - 5', 'T - 4', 'T - 3', 'T - 2', 'T - 1', 'Actual', 'Predicted']\n",
    "result2['Predicted'] = round(result2['Predicted'])"
   ]
  },
  {
   "cell_type": "code",
   "execution_count": 135,
   "metadata": {},
   "outputs": [],
   "source": [
    "final2 = result2.dropna()"
   ]
  },
  {
   "cell_type": "code",
   "execution_count": 136,
   "metadata": {},
   "outputs": [
    {
     "data": {
      "text/plain": [
       "(116, 118)"
      ]
     },
     "execution_count": 136,
     "metadata": {},
     "output_type": "execute_result"
    }
   ],
   "source": [
    "round(result['Actual'].mean()), round(result2['Predicted'].mean())\n",
    "\n",
    "# Average Daily Error: ~2 Surgeries"
   ]
  },
  {
   "cell_type": "code",
   "execution_count": 137,
   "metadata": {},
   "outputs": [
    {
     "data": {
      "text/plain": [
       "19.418679316137304"
      ]
     },
     "execution_count": 137,
     "metadata": {},
     "output_type": "execute_result"
    }
   ],
   "source": [
    "from sklearn.metrics import mean_squared_error\n",
    "from math import sqrt\n",
    "y_actual = final2['Actual']\n",
    "y_predicted = final2['Predicted']\n",
    "rms = sqrt(mean_squared_error(y_actual, y_predicted))\n",
    "rms"
   ]
  },
  {
   "cell_type": "code",
   "execution_count": 138,
   "metadata": {},
   "outputs": [
    {
     "name": "stdout",
     "output_type": "stream",
     "text": [
      "Results by manual calculation:\n",
      "MAE: 13.970212765957447\n",
      "MSE: 377.0851063829787\n",
      "RMSE: 19.418679316137304\n",
      "R-Squared: -0.19587322731079548\n"
     ]
    }
   ],
   "source": [
    "y = final2['Actual']\n",
    "yhat = final2['Predicted']\n",
    "d = y - yhat\n",
    "mse_f = np.mean(d**2)\n",
    "mae_f = np.mean(abs(d))\n",
    "rmse_f = np.sqrt(mse_f)\n",
    "r2_f = 1-(sum(d**2)/sum((y-np.mean(y))**2))\n",
    "\n",
    "print(\"Results by manual calculation:\")\n",
    "print(\"MAE:\",mae_f)\n",
    "print(\"MSE:\", mse_f)\n",
    "print(\"RMSE:\", rmse_f)\n",
    "print(\"R-Squared:\", r2_f)"
   ]
  },
  {
   "cell_type": "markdown",
   "metadata": {},
   "source": [
    "### Predicting results for 7 days before the surgery date"
   ]
  },
  {
   "cell_type": "code",
   "execution_count": 139,
   "metadata": {},
   "outputs": [],
   "source": [
    "x = df1[['T - 28', 'T - 21', 'T - 14', 'T - 13', 'T - 12', 'T - 11', 'T - 10', 'T - 9', 'T - 8']]\n",
    "y = df1[['Actual']]"
   ]
  },
  {
   "cell_type": "code",
   "execution_count": 140,
   "metadata": {},
   "outputs": [],
   "source": [
    "#Fitting Simple Linear regression data model\n",
    "from sklearn.linear_model import LinearRegression\n",
    "regressorObject=LinearRegression()\n",
    "regressorObject.fit(x,y)\n",
    "\n",
    "#predict number of surgeries for the data set\n",
    "predict = df1.loc[2:242, 'T - 28':'T - 8']\n",
    "y_pred_test_data=regressorObject.predict(predict)"
   ]
  },
  {
   "cell_type": "code",
   "execution_count": 141,
   "metadata": {},
   "outputs": [
    {
     "data": {
      "image/png": "[encoded data removed]",
      "text/plain": [
       "<Figure size 432x288 with 1 Axes>"
      ]
     },
     "metadata": {
      "needs_background": "light"
     },
     "output_type": "display_data"
    }
   ],
   "source": [
    "sns.regplot(x = np.arange(y.shape[0]), y=y, color='red')\n",
    "plt.scatter(x = np.arange(y_pred_test_data.shape[0]), y=y_pred_test_data, c = 'blue')\n",
    "plt.savefig(\"Output_selected_col.png\")\n",
    "plt.show()"
   ]
  },
  {
   "cell_type": "code",
   "execution_count": 142,
   "metadata": {},
   "outputs": [],
   "source": [
    "Predicted = pd.DataFrame(y_pred_test_data, columns = ['Predicted'])"
   ]
  },
  {
   "cell_type": "code",
   "execution_count": 143,
   "metadata": {},
   "outputs": [],
   "source": [
    "result3 = pd.concat([df, Predicted], ignore_index=True, axis=1)\n",
    "result3.columns = ['SurgDate', 'DOW', 'T - 28', 'T - 21', 'T - 14', 'T - 13', 'T - 12', 'T - 11',' T - 10', 'T - 9',\n",
    "                  'T - 8', 'T - 7', 'T - 6', 'T - 5', 'T - 4', 'T - 3', 'T - 2', 'T - 1', 'Actual', 'Predicted']\n",
    "result3['Predicted'] = round(result3['Predicted'])"
   ]
  },
  {
   "cell_type": "code",
   "execution_count": 144,
   "metadata": {},
   "outputs": [],
   "source": [
    "final3 = result3.dropna()"
   ]
  },
  {
   "cell_type": "code",
   "execution_count": 145,
   "metadata": {},
   "outputs": [
    {
     "data": {
      "text/plain": [
       "(116, 118)"
      ]
     },
     "execution_count": 145,
     "metadata": {},
     "output_type": "execute_result"
    }
   ],
   "source": [
    "round(result['Actual'].mean()), round(final3['Predicted'].mean())\n",
    "\n",
    "# Average Daily Error: ~2 Surgeries"
   ]
  },
  {
   "cell_type": "code",
   "execution_count": 146,
   "metadata": {},
   "outputs": [
    {
     "name": "stdout",
     "output_type": "stream",
     "text": [
      "Results by manual calculation:\n",
      "MAE: 13.565957446808511\n",
      "MSE: 375.6085106382979\n",
      "RMSE: 19.380622039508893\n",
      "R-Squared: -0.19119040826349143\n"
     ]
    }
   ],
   "source": [
    "y = final3['Actual']\n",
    "yhat = final3['Predicted']\n",
    "d = y - yhat\n",
    "mse_f = np.mean(d**2)\n",
    "mae_f = np.mean(abs(d))\n",
    "rmse_f = np.sqrt(mse_f)\n",
    "r2_f = 1-(sum(d**2)/sum((y-np.mean(y))**2))\n",
    "\n",
    "print(\"Results by manual calculation:\")\n",
    "print(\"MAE:\",mae_f)\n",
    "print(\"MSE:\", mse_f)\n",
    "print(\"RMSE:\", rmse_f)\n",
    "print(\"R-Squared:\", r2_f)"
   ]
  },
  {
   "cell_type": "code",
   "execution_count": 147,
   "metadata": {},
   "outputs": [
    {
     "data": {
      "image/png": "[encoded data removed]",
      "text/plain": [
       "<Figure size 1080x576 with 1 Axes>"
      ]
     },
     "metadata": {
      "needs_background": "light"
     },
     "output_type": "display_data"
    }
   ],
   "source": [
    "plt.figure(figsize=[15,8])\n",
    "plt.grid(True)\n",
    "plt.plot(result['Actual'],label='Actual', )\n",
    "plt.plot(result['Predicted'],label='Predicted')\n",
    "# plt.plot(df['SMA_4'],label='SMA 4 Months')\n",
    "plt.legend(loc=2)\n",
    "plt.savefig(\"Output_lineplot.png\")"
   ]
  },
  {
   "cell_type": "code",
   "execution_count": null,
   "metadata": {},
   "outputs": [],
   "source": []
  }
 ],
 "metadata": {
  "hide_input": false,
  "kernelspec": {
   "display_name": "Python 3 (ipykernel)",
   "language": "python",
   "name": "python3"
  },
  "language_info": {
   "codemirror_mode": {
    "name": "ipython",
    "version": 3
   },
   "file_extension": ".py",
   "mimetype": "text/x-python",
   "name": "python",
   "nbconvert_exporter": "python",
   "pygments_lexer": "ipython3",
   "version": "3.10.5"
  },
  "nbTranslate": {
   "displayLangs": [
    "*"
   ],
   "hotkey": "alt-t",
   "langInMainMenu": true,
   "sourceLang": "en",
   "targetLang": "fr",
   "useGoogleTranslate": true
  }
 },
 "nbformat": 4,
 "nbformat_minor": 4
}
